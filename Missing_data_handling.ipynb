{
 "cells": [
  {
   "cell_type": "markdown",
   "metadata": {},
   "source": [
    "We see that there are many missing values and they can be taken from the internet. I can proceed in that direction."
   ]
  },
  {
   "cell_type": "code",
   "execution_count": 57,
   "metadata": {},
   "outputs": [],
   "source": [
    "import pandas as pd\n",
    "import numpy as np\n",
    "import requests\n",
    "from bs4 import BeautifulSoup\n",
    "import mysql.connector"
   ]
  },
  {
   "cell_type": "code",
   "execution_count": 58,
   "metadata": {},
   "outputs": [],
   "source": [
    "df_netflix_movie_data = pd.read_csv('./Datasets/netflix_titles.csv', lineterminator = '\\n')\n",
    "df_prime_movie_data = pd.read_csv('./Datasets/amazon_prime_titles.csv', lineterminator = '\\n')\n",
    "df_disney_plus_movie_data = pd.read_csv('./Datasets/disney_plus_titles.csv', lineterminator = '\\n')\n",
    "df_hulu_movie_data = pd.read_csv('./Datasets/hulu_titles.csv', lineterminator = '\\n')"
   ]
  },
  {
   "cell_type": "code",
   "execution_count": 71,
   "metadata": {},
   "outputs": [
    {
     "name": "stdout",
     "output_type": "stream",
     "text": [
      "show_id            0\n",
      "type               0\n",
      "title              0\n",
      "director        2634\n",
      "cast             825\n",
      "country          831\n",
      "date_added        98\n",
      "release_year       0\n",
      "rating             4\n",
      "duration           3\n",
      "listed_in          0\n",
      "description        0\n",
      "dtype: int64\n"
     ]
    }
   ],
   "source": [
    "missing_value_netflix = df_netflix_movie_data.isna().sum()\n",
    "print(missing_value_netflix)"
   ]
  },
  {
   "cell_type": "code",
   "execution_count": 72,
   "metadata": {},
   "outputs": [
    {
     "name": "stdout",
     "output_type": "stream",
     "text": [
      "Number of records in Netflix DataFrame: 8807\n"
     ]
    }
   ],
   "source": [
    "print(\"Number of records in Netflix DataFrame:\", df_netflix_movie_data.shape[0])"
   ]
  },
  {
   "cell_type": "code",
   "execution_count": 73,
   "metadata": {},
   "outputs": [
    {
     "name": "stdout",
     "output_type": "stream",
     "text": [
      "show_id            0\n",
      "type               0\n",
      "title              0\n",
      "director        2083\n",
      "cast            1233\n",
      "country         8996\n",
      "date_added      9513\n",
      "release_year       0\n",
      "rating           337\n",
      "duration           0\n",
      "listed_in          0\n",
      "description        0\n",
      "dtype: int64\n"
     ]
    }
   ],
   "source": [
    "missing_value_prime = df_prime_movie_data.isna().sum()\n",
    "print(missing_value_prime)"
   ]
  },
  {
   "cell_type": "code",
   "execution_count": null,
   "metadata": {},
   "outputs": [],
   "source": [
    "print(\"Number of records in Prime Video DataFrame:\", df_prime_movie_data.shape[0])"
   ]
  },
  {
   "cell_type": "code",
   "execution_count": 74,
   "metadata": {},
   "outputs": [
    {
     "name": "stdout",
     "output_type": "stream",
     "text": [
      "show_id           0\n",
      "type              0\n",
      "title             0\n",
      "director        473\n",
      "cast            190\n",
      "country         219\n",
      "date_added        3\n",
      "release_year      0\n",
      "rating            3\n",
      "duration          0\n",
      "listed_in         0\n",
      "description       0\n",
      "dtype: int64\n"
     ]
    }
   ],
   "source": [
    "missing_value_disney_plus = df_disney_plus_movie_data.isna().sum()\n",
    "print(missing_value_disney_plus)"
   ]
  },
  {
   "cell_type": "code",
   "execution_count": null,
   "metadata": {},
   "outputs": [],
   "source": [
    "print(\"Number of records in Disney Plus DataFrame:\", df_disney_plus_movie_data.shape[0])"
   ]
  },
  {
   "cell_type": "code",
   "execution_count": 75,
   "metadata": {},
   "outputs": [
    {
     "name": "stdout",
     "output_type": "stream",
     "text": [
      "show_id            0\n",
      "type               0\n",
      "title              0\n",
      "director        3070\n",
      "cast            3073\n",
      "country         1453\n",
      "date_added        28\n",
      "release_year       0\n",
      "rating           520\n",
      "duration         479\n",
      "listed_in          0\n",
      "description        4\n",
      "dtype: int64\n"
     ]
    }
   ],
   "source": [
    "missing_value_hulu = df_hulu_movie_data.isna().sum()\n",
    "print(missing_value_hulu)"
   ]
  },
  {
   "cell_type": "code",
   "execution_count": null,
   "metadata": {},
   "outputs": [],
   "source": [
    "print(\"Number of records in Hulu DataFrame:\", df_hulu_movie_data.shape[0])"
   ]
  },
  {
   "cell_type": "markdown",
   "metadata": {},
   "source": [
    "As we can see clearly, above only columns director, cast, country, date_added, rating, duration. Rather than deleting them. If we can get those values back in the dataset it would be best.\n",
    "I can use information present on the website imdb to get the data and fill it. I can use web scrapping to get the data and fill it in the dataset."
   ]
  },
  {
   "cell_type": "markdown",
   "metadata": {},
   "source": [
    "But before that I can check data. One dataset row may have data of the for the other dataset missing row values. Let's first check for the "
   ]
  },
  {
   "cell_type": "code",
   "execution_count": 59,
   "metadata": {},
   "outputs": [
    {
     "name": "stdout",
     "output_type": "stream",
     "text": [
      "Netflix DataFrame Column Data Types:\n",
      "show_id         object\n",
      "type            object\n",
      "title           object\n",
      "director        object\n",
      "cast            object\n",
      "country         object\n",
      "date_added      object\n",
      "release_year     int64\n",
      "rating          object\n",
      "duration        object\n",
      "listed_in       object\n",
      "description     object\n",
      "dtype: object\n"
     ]
    }
   ],
   "source": [
    "print(\"Netflix DataFrame Column Data Types:\")\n",
    "print(df_netflix_movie_data.dtypes)"
   ]
  },
  {
   "cell_type": "code",
   "execution_count": 69,
   "metadata": {},
   "outputs": [
    {
     "name": "stdout",
     "output_type": "stream",
     "text": [
      "\n",
      "Prime Video DataFrame Column Data Types:\n",
      "show_id         string[python]\n",
      "type            string[python]\n",
      "title           string[python]\n",
      "director        string[python]\n",
      "cast            string[python]\n",
      "country         string[python]\n",
      "date_added      datetime64[ns]\n",
      "release_year             Int64\n",
      "rating          string[python]\n",
      "duration        string[python]\n",
      "listed_in       string[python]\n",
      "description     string[python]\n",
      "dtype: object\n"
     ]
    }
   ],
   "source": [
    "print(\"\\nPrime Video DataFrame Column Data Types:\")\n",
    "print(df_prime_movie_data.dtypes)"
   ]
  },
  {
   "cell_type": "code",
   "execution_count": 68,
   "metadata": {},
   "outputs": [
    {
     "name": "stdout",
     "output_type": "stream",
     "text": [
      "\n",
      "Disney Plus DataFrame Column Data Types:\n",
      "show_id         string[python]\n",
      "type            string[python]\n",
      "title           string[python]\n",
      "director        string[python]\n",
      "cast            string[python]\n",
      "country         string[python]\n",
      "date_added      datetime64[ns]\n",
      "release_year             Int64\n",
      "rating          string[python]\n",
      "duration        string[python]\n",
      "listed_in       string[python]\n",
      "description     string[python]\n",
      "dtype: object\n"
     ]
    }
   ],
   "source": [
    "\n",
    "print(\"\\nDisney Plus DataFrame Column Data Types:\")\n",
    "print(df_disney_plus_movie_data.dtypes)"
   ]
  },
  {
   "cell_type": "code",
   "execution_count": 67,
   "metadata": {},
   "outputs": [
    {
     "name": "stdout",
     "output_type": "stream",
     "text": [
      "\n",
      "Hulu DataFrame Column Data Types:\n",
      "show_id         string[python]\n",
      "type            string[python]\n",
      "title           string[python]\n",
      "director        string[python]\n",
      "cast            string[python]\n",
      "country         string[python]\n",
      "date_added      datetime64[ns]\n",
      "release_year             Int64\n",
      "rating          string[python]\n",
      "duration        string[python]\n",
      "listed_in       string[python]\n",
      "description     string[python]\n",
      "dtype: object\n"
     ]
    }
   ],
   "source": [
    "print(\"\\nHulu DataFrame Column Data Types:\")\n",
    "print(df_hulu_movie_data.dtypes)"
   ]
  },
  {
   "cell_type": "markdown",
   "metadata": {},
   "source": [
    "Okay I will be first converting the datatypes of the columns of the dataframes according to the requirement and then after that I will be tranferring data to the SQL. Through this I can ensure that there is no error while tranferring the data.\n",
    "\n",
    "Why I want to transfer the data to SQL?\n",
    "I currently want to fill the missing values of the columns director, cast, country, date_added, rating and duration in all datasets. But there are chances that missing value of 1 dataset might be present in another dataset. So for doing that in optimized manner I am using the SQL. \n",
    "Other approaches:\n",
    "\n",
    "- I can loop through datasets to find values. But this approach will take most time as there are 4 datasets and time taken will get to O($n^4$). This approach is not great.\n",
    "- I can use Hash tables for this but it will be take most of the memory for it. It would be better to go for Database as I would be taking it's help for data wrangling also."
   ]
  },
  {
   "cell_type": "code",
   "execution_count": 63,
   "metadata": {},
   "outputs": [],
   "source": [
    "dataframes = [df_netflix_movie_data, df_prime_movie_data, df_disney_plus_movie_data, df_hulu_movie_data]"
   ]
  },
  {
   "cell_type": "code",
   "execution_count": 64,
   "metadata": {},
   "outputs": [],
   "source": [
    "for df in dataframes:\n",
    "    df[\"show_id\"] = df[\"show_id\"].astype(\"string\")  # Explicit string type\n",
    "    df[\"type\"] = df[\"type\"].astype(\"string\")\n",
    "    df[\"title\"] = df[\"title\"].astype(\"string\")\n",
    "    df[\"director\"] = df[\"director\"].astype(\"string\")\n",
    "    df[\"cast\"] = df[\"cast\"].astype(\"string\")  # Convert float64 to string\n",
    "    df[\"country\"] = df[\"country\"].astype(\"string\")\n",
    "    df[\"date_added\"] = pd.to_datetime(df[\"date_added\"], errors=\"coerce\")  # Convert to Date\n",
    "    df[\"release_year\"] = df[\"release_year\"].astype(\"Int64\")  # Explicitly use Int64\n",
    "    df[\"rating\"] = df[\"rating\"].astype(\"string\")\n",
    "    df[\"duration\"] = df[\"duration\"].astype(\"string\")\n",
    "    df[\"listed_in\"] = df[\"listed_in\"].astype(\"string\")\n",
    "    df[\"description\"] = df[\"description\"].astype(\"string\")\n",
    "\n"
   ]
  },
  {
   "cell_type": "code",
   "execution_count": null,
   "metadata": {},
   "outputs": [],
   "source": [
    "# Verify Data Types\n",
    "for i, df in enumerate(dataframes, start=1):\n",
    "    print(f\"\\nData Types for DataFrame {i}:\\n\", df.dtypes)"
   ]
  },
  {
   "cell_type": "code",
   "execution_count": 66,
   "metadata": {},
   "outputs": [
    {
     "name": "stdout",
     "output_type": "stream",
     "text": [
      "Netflix DataFrame Column Data Types:\n",
      "show_id         string[python]\n",
      "type            string[python]\n",
      "title           string[python]\n",
      "director        string[python]\n",
      "cast            string[python]\n",
      "country         string[python]\n",
      "date_added      datetime64[ns]\n",
      "release_year             Int64\n",
      "rating          string[python]\n",
      "duration        string[python]\n",
      "listed_in       string[python]\n",
      "description     string[python]\n",
      "dtype: object\n"
     ]
    }
   ],
   "source": [
    "print(\"Netflix DataFrame Column Data Types:\")\n",
    "print(df_netflix_movie_data.dtypes)"
   ]
  },
  {
   "cell_type": "code",
   "execution_count": 89,
   "metadata": {},
   "outputs": [
    {
     "data": {
      "text/html": [
       "<div>\n",
       "<style scoped>\n",
       "    .dataframe tbody tr th:only-of-type {\n",
       "        vertical-align: middle;\n",
       "    }\n",
       "\n",
       "    .dataframe tbody tr th {\n",
       "        vertical-align: top;\n",
       "    }\n",
       "\n",
       "    .dataframe thead th {\n",
       "        text-align: right;\n",
       "    }\n",
       "</style>\n",
       "<table border=\"1\" class=\"dataframe\">\n",
       "  <thead>\n",
       "    <tr style=\"text-align: right;\">\n",
       "      <th></th>\n",
       "      <th>show_id</th>\n",
       "      <th>type</th>\n",
       "      <th>title</th>\n",
       "      <th>director</th>\n",
       "      <th>cast</th>\n",
       "      <th>country</th>\n",
       "      <th>date_added</th>\n",
       "      <th>release_year</th>\n",
       "      <th>rating</th>\n",
       "      <th>duration</th>\n",
       "      <th>listed_in</th>\n",
       "      <th>description</th>\n",
       "    </tr>\n",
       "  </thead>\n",
       "  <tbody>\n",
       "    <tr>\n",
       "      <th>0</th>\n",
       "      <td>s1</td>\n",
       "      <td>Movie</td>\n",
       "      <td>Dick Johnson Is Dead</td>\n",
       "      <td>Kirsten Johnson</td>\n",
       "      <td>&lt;NA&gt;</td>\n",
       "      <td>United States</td>\n",
       "      <td>2021-09-25</td>\n",
       "      <td>2020</td>\n",
       "      <td>PG-13</td>\n",
       "      <td>90 min</td>\n",
       "      <td>Documentaries</td>\n",
       "      <td>As her father nears the end of his life, filmm...</td>\n",
       "    </tr>\n",
       "    <tr>\n",
       "      <th>1</th>\n",
       "      <td>s2</td>\n",
       "      <td>TV Show</td>\n",
       "      <td>Blood &amp; Water</td>\n",
       "      <td>&lt;NA&gt;</td>\n",
       "      <td>Ama Qamata, Khosi Ngema, Gail Mabalane, Thaban...</td>\n",
       "      <td>South Africa</td>\n",
       "      <td>2021-09-24</td>\n",
       "      <td>2021</td>\n",
       "      <td>TV-MA</td>\n",
       "      <td>2 Seasons</td>\n",
       "      <td>International TV Shows, TV Dramas, TV Mysteries</td>\n",
       "      <td>After crossing paths at a party, a Cape Town t...</td>\n",
       "    </tr>\n",
       "    <tr>\n",
       "      <th>2</th>\n",
       "      <td>s3</td>\n",
       "      <td>TV Show</td>\n",
       "      <td>Ganglands</td>\n",
       "      <td>Julien Leclercq</td>\n",
       "      <td>Sami Bouajila, Tracy Gotoas, Samuel Jouy, Nabi...</td>\n",
       "      <td>&lt;NA&gt;</td>\n",
       "      <td>2021-09-24</td>\n",
       "      <td>2021</td>\n",
       "      <td>TV-MA</td>\n",
       "      <td>1 Season</td>\n",
       "      <td>Crime TV Shows, International TV Shows, TV Act...</td>\n",
       "      <td>To protect his family from a powerful drug lor...</td>\n",
       "    </tr>\n",
       "    <tr>\n",
       "      <th>3</th>\n",
       "      <td>s4</td>\n",
       "      <td>TV Show</td>\n",
       "      <td>Jailbirds New Orleans</td>\n",
       "      <td>&lt;NA&gt;</td>\n",
       "      <td>&lt;NA&gt;</td>\n",
       "      <td>&lt;NA&gt;</td>\n",
       "      <td>2021-09-24</td>\n",
       "      <td>2021</td>\n",
       "      <td>TV-MA</td>\n",
       "      <td>1 Season</td>\n",
       "      <td>Docuseries, Reality TV</td>\n",
       "      <td>Feuds, flirtations and toilet talk go down amo...</td>\n",
       "    </tr>\n",
       "    <tr>\n",
       "      <th>4</th>\n",
       "      <td>s5</td>\n",
       "      <td>TV Show</td>\n",
       "      <td>Kota Factory</td>\n",
       "      <td>&lt;NA&gt;</td>\n",
       "      <td>Mayur More, Jitendra Kumar, Ranjan Raj, Alam K...</td>\n",
       "      <td>India</td>\n",
       "      <td>2021-09-24</td>\n",
       "      <td>2021</td>\n",
       "      <td>TV-MA</td>\n",
       "      <td>2 Seasons</td>\n",
       "      <td>International TV Shows, Romantic TV Shows, TV ...</td>\n",
       "      <td>In a city of coaching centers known to train I...</td>\n",
       "    </tr>\n",
       "  </tbody>\n",
       "</table>\n",
       "</div>"
      ],
      "text/plain": [
       "  show_id     type                  title         director  \\\n",
       "0      s1    Movie   Dick Johnson Is Dead  Kirsten Johnson   \n",
       "1      s2  TV Show          Blood & Water             <NA>   \n",
       "2      s3  TV Show              Ganglands  Julien Leclercq   \n",
       "3      s4  TV Show  Jailbirds New Orleans             <NA>   \n",
       "4      s5  TV Show           Kota Factory             <NA>   \n",
       "\n",
       "                                                cast        country  \\\n",
       "0                                               <NA>  United States   \n",
       "1  Ama Qamata, Khosi Ngema, Gail Mabalane, Thaban...   South Africa   \n",
       "2  Sami Bouajila, Tracy Gotoas, Samuel Jouy, Nabi...           <NA>   \n",
       "3                                               <NA>           <NA>   \n",
       "4  Mayur More, Jitendra Kumar, Ranjan Raj, Alam K...          India   \n",
       "\n",
       "  date_added  release_year rating   duration  \\\n",
       "0 2021-09-25          2020  PG-13     90 min   \n",
       "1 2021-09-24          2021  TV-MA  2 Seasons   \n",
       "2 2021-09-24          2021  TV-MA   1 Season   \n",
       "3 2021-09-24          2021  TV-MA   1 Season   \n",
       "4 2021-09-24          2021  TV-MA  2 Seasons   \n",
       "\n",
       "                                           listed_in  \\\n",
       "0                                      Documentaries   \n",
       "1    International TV Shows, TV Dramas, TV Mysteries   \n",
       "2  Crime TV Shows, International TV Shows, TV Act...   \n",
       "3                             Docuseries, Reality TV   \n",
       "4  International TV Shows, Romantic TV Shows, TV ...   \n",
       "\n",
       "                                         description  \n",
       "0  As her father nears the end of his life, filmm...  \n",
       "1  After crossing paths at a party, a Cape Town t...  \n",
       "2  To protect his family from a powerful drug lor...  \n",
       "3  Feuds, flirtations and toilet talk go down amo...  \n",
       "4  In a city of coaching centers known to train I...  "
      ]
     },
     "execution_count": 89,
     "metadata": {},
     "output_type": "execute_result"
    }
   ],
   "source": [
    "df_netflix_movie_data.head()"
   ]
  },
  {
   "cell_type": "code",
   "execution_count": 90,
   "metadata": {},
   "outputs": [
    {
     "data": {
      "text/html": [
       "<div>\n",
       "<style scoped>\n",
       "    .dataframe tbody tr th:only-of-type {\n",
       "        vertical-align: middle;\n",
       "    }\n",
       "\n",
       "    .dataframe tbody tr th {\n",
       "        vertical-align: top;\n",
       "    }\n",
       "\n",
       "    .dataframe thead th {\n",
       "        text-align: right;\n",
       "    }\n",
       "</style>\n",
       "<table border=\"1\" class=\"dataframe\">\n",
       "  <thead>\n",
       "    <tr style=\"text-align: right;\">\n",
       "      <th></th>\n",
       "      <th>show_id</th>\n",
       "      <th>type</th>\n",
       "      <th>title</th>\n",
       "      <th>director</th>\n",
       "      <th>cast</th>\n",
       "      <th>country</th>\n",
       "      <th>date_added</th>\n",
       "      <th>release_year</th>\n",
       "      <th>rating</th>\n",
       "      <th>duration</th>\n",
       "      <th>listed_in</th>\n",
       "      <th>description</th>\n",
       "    </tr>\n",
       "  </thead>\n",
       "  <tbody>\n",
       "    <tr>\n",
       "      <th>0</th>\n",
       "      <td>s1</td>\n",
       "      <td>Movie</td>\n",
       "      <td>Ricky Velez: Here's Everything</td>\n",
       "      <td>&lt;NA&gt;</td>\n",
       "      <td>&lt;NA&gt;</td>\n",
       "      <td>&lt;NA&gt;</td>\n",
       "      <td>2021-10-24</td>\n",
       "      <td>2021</td>\n",
       "      <td>TV-MA</td>\n",
       "      <td>&lt;NA&gt;</td>\n",
       "      <td>Comedy, Stand Up</td>\n",
       "      <td>​Comedian Ricky Velez bares it all with his ho...</td>\n",
       "    </tr>\n",
       "    <tr>\n",
       "      <th>1</th>\n",
       "      <td>s2</td>\n",
       "      <td>Movie</td>\n",
       "      <td>Silent Night</td>\n",
       "      <td>&lt;NA&gt;</td>\n",
       "      <td>&lt;NA&gt;</td>\n",
       "      <td>&lt;NA&gt;</td>\n",
       "      <td>2021-10-23</td>\n",
       "      <td>2020</td>\n",
       "      <td>&lt;NA&gt;</td>\n",
       "      <td>94 min</td>\n",
       "      <td>Crime, Drama, Thriller</td>\n",
       "      <td>Mark, a low end South London hitman recently r...</td>\n",
       "    </tr>\n",
       "    <tr>\n",
       "      <th>2</th>\n",
       "      <td>s3</td>\n",
       "      <td>Movie</td>\n",
       "      <td>The Marksman</td>\n",
       "      <td>&lt;NA&gt;</td>\n",
       "      <td>&lt;NA&gt;</td>\n",
       "      <td>&lt;NA&gt;</td>\n",
       "      <td>2021-10-23</td>\n",
       "      <td>2021</td>\n",
       "      <td>PG-13</td>\n",
       "      <td>108 min</td>\n",
       "      <td>Action, Thriller</td>\n",
       "      <td>A hardened Arizona rancher tries to protect an...</td>\n",
       "    </tr>\n",
       "    <tr>\n",
       "      <th>3</th>\n",
       "      <td>s4</td>\n",
       "      <td>Movie</td>\n",
       "      <td>Gaia</td>\n",
       "      <td>&lt;NA&gt;</td>\n",
       "      <td>&lt;NA&gt;</td>\n",
       "      <td>&lt;NA&gt;</td>\n",
       "      <td>2021-10-22</td>\n",
       "      <td>2021</td>\n",
       "      <td>R</td>\n",
       "      <td>97 min</td>\n",
       "      <td>Horror</td>\n",
       "      <td>A forest ranger and two survivalists with a cu...</td>\n",
       "    </tr>\n",
       "    <tr>\n",
       "      <th>4</th>\n",
       "      <td>s5</td>\n",
       "      <td>Movie</td>\n",
       "      <td>Settlers</td>\n",
       "      <td>&lt;NA&gt;</td>\n",
       "      <td>&lt;NA&gt;</td>\n",
       "      <td>&lt;NA&gt;</td>\n",
       "      <td>2021-10-22</td>\n",
       "      <td>2021</td>\n",
       "      <td>&lt;NA&gt;</td>\n",
       "      <td>104 min</td>\n",
       "      <td>Science Fiction, Thriller</td>\n",
       "      <td>Mankind's earliest settlers on the Martian fro...</td>\n",
       "    </tr>\n",
       "  </tbody>\n",
       "</table>\n",
       "</div>"
      ],
      "text/plain": [
       "  show_id   type                           title director  cast country  \\\n",
       "0      s1  Movie  Ricky Velez: Here's Everything     <NA>  <NA>    <NA>   \n",
       "1      s2  Movie                    Silent Night     <NA>  <NA>    <NA>   \n",
       "2      s3  Movie                    The Marksman     <NA>  <NA>    <NA>   \n",
       "3      s4  Movie                            Gaia     <NA>  <NA>    <NA>   \n",
       "4      s5  Movie                        Settlers     <NA>  <NA>    <NA>   \n",
       "\n",
       "  date_added  release_year rating duration                  listed_in  \\\n",
       "0 2021-10-24          2021  TV-MA     <NA>           Comedy, Stand Up   \n",
       "1 2021-10-23          2020   <NA>   94 min     Crime, Drama, Thriller   \n",
       "2 2021-10-23          2021  PG-13  108 min           Action, Thriller   \n",
       "3 2021-10-22          2021      R   97 min                     Horror   \n",
       "4 2021-10-22          2021   <NA>  104 min  Science Fiction, Thriller   \n",
       "\n",
       "                                         description  \n",
       "0  ​Comedian Ricky Velez bares it all with his ho...  \n",
       "1  Mark, a low end South London hitman recently r...  \n",
       "2  A hardened Arizona rancher tries to protect an...  \n",
       "3  A forest ranger and two survivalists with a cu...  \n",
       "4  Mankind's earliest settlers on the Martian fro...  "
      ]
     },
     "execution_count": 90,
     "metadata": {},
     "output_type": "execute_result"
    }
   ],
   "source": [
    "df_hulu_movie_data.head()"
   ]
  },
  {
   "cell_type": "code",
   "execution_count": 79,
   "metadata": {},
   "outputs": [],
   "source": [
    "conn = mysql.connector.connect(\n",
    "    host=\"127.0.0.1\",\n",
    "    user=\"Himanshu\",\n",
    "    password=\"Hustling@2000\",\n",
    ")\n",
    "cursor = conn.cursor()"
   ]
  },
  {
   "cell_type": "code",
   "execution_count": 80,
   "metadata": {},
   "outputs": [],
   "source": [
    "cursor.execute(\"CREATE DATABASE IF NOT EXISTS movies_db;\")\n",
    "cursor.close()\n",
    "conn.close()"
   ]
  },
  {
   "cell_type": "code",
   "execution_count": 83,
   "metadata": {},
   "outputs": [],
   "source": [
    "conn = mysql.connector.connect(\n",
    "    host=\"localhost\",\n",
    "    user=\"Himanshu\",\n",
    "    password=\"Hustling@2000\",\n",
    "    database=\"movies_db\"\n",
    ")\n",
    "cursor = conn.cursor()"
   ]
  },
  {
   "cell_type": "code",
   "execution_count": 88,
   "metadata": {},
   "outputs": [],
   "source": [
    "cursor.execute(\"\"\"\n",
    "    CREATE TABLE IF NOT EXISTS movies_data (\n",
    "        show_id VARCHAR(255),\n",
    "        type VARCHAR(50),\n",
    "        title VARCHAR(500),\n",
    "        director VARCHAR(300),\n",
    "        cast VARCHAR(2000),\n",
    "        country VARCHAR(100),\n",
    "        date_added DATE,\n",
    "        release_year YEAR,\n",
    "        rating VARCHAR(50),\n",
    "        duration VARCHAR(100),\n",
    "        listed_in VARCHAR(300),\n",
    "        description TEXT,\n",
    "        PRIMARY KEY (title, release_year)\n",
    "    )\n",
    "\"\"\")"
   ]
  },
  {
   "cell_type": "code",
   "execution_count": null,
   "metadata": {},
   "outputs": [],
   "source": []
  }
 ],
 "metadata": {
  "kernelspec": {
   "display_name": "Python 3",
   "language": "python",
   "name": "python3"
  },
  "language_info": {
   "codemirror_mode": {
    "name": "ipython",
    "version": 3
   },
   "file_extension": ".py",
   "mimetype": "text/x-python",
   "name": "python",
   "nbconvert_exporter": "python",
   "pygments_lexer": "ipython3",
   "version": "3.10.11"
  }
 },
 "nbformat": 4,
 "nbformat_minor": 2
}
